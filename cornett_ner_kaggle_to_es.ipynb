{
 "cells": [
  {
   "cell_type": "code",
   "execution_count": 35,
   "id": "ab23972a",
   "metadata": {},
   "outputs": [
    {
     "name": "stdout",
     "output_type": "stream",
     "text": [
      "Requirement already satisfied: pandas in c:\\users\\kcsof\\anaconda3\\lib\\site-packages (1.4.4)\n",
      "Collecting elasticsearch\n",
      "  Downloading elasticsearch-8.17.0-py3-none-any.whl (571 kB)\n",
      "     ------------------------------------- 571.2/571.2 kB 18.1 MB/s eta 0:00:00\n",
      "Requirement already satisfied: python-dateutil>=2.8.1 in c:\\users\\kcsof\\anaconda3\\lib\\site-packages (from pandas) (2.8.2)\n",
      "Requirement already satisfied: pytz>=2020.1 in c:\\users\\kcsof\\anaconda3\\lib\\site-packages (from pandas) (2022.1)\n",
      "Requirement already satisfied: numpy>=1.18.5 in c:\\users\\kcsof\\anaconda3\\lib\\site-packages (from pandas) (1.21.5)\n",
      "Collecting elastic-transport<9,>=8.15.1\n",
      "  Downloading elastic_transport-8.15.1-py3-none-any.whl (64 kB)\n",
      "     ---------------------------------------- 64.4/64.4 kB ? eta 0:00:00\n",
      "Requirement already satisfied: urllib3<3,>=1.26.2 in c:\\users\\kcsof\\anaconda3\\lib\\site-packages (from elastic-transport<9,>=8.15.1->elasticsearch) (1.26.11)\n",
      "Requirement already satisfied: certifi in c:\\users\\kcsof\\anaconda3\\lib\\site-packages (from elastic-transport<9,>=8.15.1->elasticsearch) (2022.9.14)\n",
      "Requirement already satisfied: six>=1.5 in c:\\users\\kcsof\\anaconda3\\lib\\site-packages (from python-dateutil>=2.8.1->pandas) (1.16.0)\n",
      "Installing collected packages: elastic-transport, elasticsearch\n",
      "Successfully installed elastic-transport-8.15.1 elasticsearch-8.17.0\n"
     ]
    }
   ],
   "source": [
    "#pip install --user bertopic\n",
    "#pip install --user kagglehub\n",
    "#pip install --user pydantic spacy==3.3.3\n",
    "#pip install --user https://github.com/explosion/spacy-models/releases/download/en_core_web_sm-3.0.0/en_core_web_sm-3.0.0.tar.gz\n",
    "#pip install --user bertopic\n",
    "#pip install pandas elasticsearch\n"
   ]
  },
  {
   "cell_type": "code",
   "execution_count": 13,
   "id": "0e0cf774",
   "metadata": {},
   "outputs": [],
   "source": [
    "import requests\n",
    "import json\n",
    "import pandas as pd\n",
    "import numpy as np\n",
    "import spacy\n",
    "from tqdm import tqdm\n",
    "from gensim import corpora, models \n",
    "from nltk.corpus import stopwords \n",
    "from nltk.tokenize import word_tokenize \n",
    "import nltk\n"
   ]
  },
  {
   "cell_type": "code",
   "execution_count": 2,
   "id": "5730d81f",
   "metadata": {},
   "outputs": [
    {
     "data": {
      "text/plain": [
       "'\\n# to make future prototyping updates easier re: query, make a dictionary of parameters\\nparameters = {\\n  \"email\": \"616316@bah.com\",\\n  \"key\": \"mHP-cdgOAZfrlf4MJ70p\",\\n  \"country\": \"Niger|Nigeria|Chad|Cameroon\", \\n  \"year\": 2023,\\n  \"fields\": \"event_id_cnty|event_date|event_type|country|fatalities|notes|tags\"\\n}\\n# Request the data as a JSON file and pass our paramenters as an argument (params=)\\nresponse_params_dict = requests.get(\"https://api.acleddata.com/acled/read\", params= parameters)\\nif response_params_dict.json()[\\'status\\'] == 200:\\n  print(\"Complete request -- Returning a JSON\")\\nelse:\\n    print(response_params_dict.json())\\n    \\n'"
      ]
     },
     "execution_count": 2,
     "metadata": {},
     "output_type": "execute_result"
    }
   ],
   "source": [
    "#example of an api pull from acled dataset - I don't currently have api data access so will load a csv instead\n",
    "'''\n",
    "# to make future prototyping updates easier re: query, make a dictionary of parameters\n",
    "parameters = {\n",
    "  \"email\": \"616316@bah.com\",\n",
    "  \"key\": \"mHP-cdgOAZfrlf4MJ70p\",\n",
    "  \"country\": \"Niger|Nigeria|Chad|Cameroon\", \n",
    "  \"year\": 2023,\n",
    "  \"fields\": \"event_id_cnty|event_date|event_type|country|fatalities|notes|tags\"\n",
    "}\n",
    "# Request the data as a JSON file and pass our paramenters as an argument (params=)\n",
    "response_params_dict = requests.get(\"https://api.acleddata.com/acled/read\", params= parameters)\n",
    "if response_params_dict.json()['status'] == 200:\n",
    "  print(\"Complete request -- Returning a JSON\")\n",
    "else:\n",
    "    print(response_params_dict.json())\n",
    "    \n",
    "'''#{'status': 403, 'success': False, 'count': 0, 'error': {'status': 403, 'message': 'Your account is restricted to only downloading the data via the Data Export Tool. Please contact access@acleddata.com to discuss extending your access to the API.'}}"
   ]
  },
  {
   "cell_type": "code",
   "execution_count": 3,
   "id": "f5c2d073",
   "metadata": {},
   "outputs": [
    {
     "name": "stdout",
     "output_type": "stream",
     "text": [
      "Path to dataset files: C:\\Users\\kcsof\\.cache\\kagglehub\\datasets\\hadasu92\\cnn-articles\\versions\\1\n"
     ]
    }
   ],
   "source": [
    "#grabbing the CNN news dataset from Kaggle\n",
    "import kagglehub\n",
    "\n",
    "# Download latest version\n",
    "path = kagglehub.dataset_download(\"hadasu92/cnn-articles\")\n",
    "\n",
    "print(\"Path to dataset files:\", path)"
   ]
  },
  {
   "cell_type": "code",
   "execution_count": 4,
   "id": "4b52590a",
   "metadata": {},
   "outputs": [],
   "source": [
    "df = pd.read_csv('C:/Users/kcsof/.cache/kagglehub/datasets/hadasu92/cnn-articles/versions/1/CNN_Articles.csv')"
   ]
  },
  {
   "cell_type": "code",
   "execution_count": 5,
   "id": "88d1e10e",
   "metadata": {},
   "outputs": [],
   "source": [
    "#Explore the dataset\n",
    "#df.head()"
   ]
  },
  {
   "cell_type": "code",
   "execution_count": 6,
   "id": "22a30442",
   "metadata": {},
   "outputs": [
    {
     "data": {
      "text/plain": [
       "https://www.cnn.com/2021/07/14/world/tusimple-autonomous-truck-spc-intl/index.html                               1\n",
       "https://www.cnn.com/2021/07/17/motorsport/ana-carrasco-supersport-broken-back-return-cmd-spt-intl/index.html     1\n",
       "https://www.cnn.com/2021/08/10/australia/australia-magpie-baby-death-intl-hnk/index.html                         1\n",
       "https://www.cnn.com/2021/08/10/sport/india-olympics-glory-intl-hnk/index.html                                    1\n",
       "https://www.cnn.com/2021/08/09/us/lamar-jackson-baltimore-ravens-covid/index.html                                1\n",
       "                                                                                                                ..\n",
       "https://www.cnn.com/2021/03/12/uk/meghan-race-britain-gbr-intl/index.html                                        1\n",
       "https://www.cnn.com/2021/03/11/europe/nazi-guard-trial-harry-s-stutthof-scli-intl-grm/index.html                 1\n",
       "https://www.cnn.com/2021/03/11/football/nba-meyers-leonard-fine-suspension-spt-intl/index.html                   1\n",
       "https://www.cnn.com/2021/03/10/football/cristiano-ronaldo-juventus-porto-champions-league-spt-intl/index.html    1\n",
       "https://www.cnn.com/2021/12/01/golf/tiger-woods-end-of-era-meanwhile-spt-intl/index.html                         1\n",
       "Name: url, Length: 4076, dtype: int64"
      ]
     },
     "execution_count": 6,
     "metadata": {},
     "output_type": "execute_result"
    }
   ],
   "source": [
    "# Check for duplicate rows and remove them \n",
    "#df['url'].value_counts()\n",
    "df.drop_duplicates(subset=['url'], keep=\"first\", inplace=True)\n",
    "df['url'].value_counts()"
   ]
  },
  {
   "cell_type": "code",
   "execution_count": 7,
   "id": "0f6fba60",
   "metadata": {},
   "outputs": [
    {
     "data": {
      "text/plain": [
       "Unnamed: 0              0\n",
       "author                  0\n",
       "date_published          0\n",
       "part_of                 0\n",
       "article_section         0\n",
       "url                     0\n",
       "headline                0\n",
       "description             0\n",
       "keywords                0\n",
       "alternative_headline    0\n",
       "text                    0\n",
       "dtype: int64"
      ]
     },
     "execution_count": 7,
     "metadata": {},
     "output_type": "execute_result"
    }
   ],
   "source": [
    "#check for null values\n",
    "df.isnull().sum() #if there were I'd drop or fillna depending on the dataset"
   ]
  },
  {
   "cell_type": "code",
   "execution_count": 8,
   "id": "8aa612e2",
   "metadata": {},
   "outputs": [
    {
     "data": {
      "text/html": [
       "<div>\n",
       "<style scoped>\n",
       "    .dataframe tbody tr th:only-of-type {\n",
       "        vertical-align: middle;\n",
       "    }\n",
       "\n",
       "    .dataframe tbody tr th {\n",
       "        vertical-align: top;\n",
       "    }\n",
       "\n",
       "    .dataframe thead th {\n",
       "        text-align: right;\n",
       "    }\n",
       "</style>\n",
       "<table border=\"1\" class=\"dataframe\">\n",
       "  <thead>\n",
       "    <tr style=\"text-align: right;\">\n",
       "      <th></th>\n",
       "      <th>Unnamed: 0</th>\n",
       "      <th>author</th>\n",
       "      <th>date_published</th>\n",
       "      <th>part_of</th>\n",
       "      <th>article_section</th>\n",
       "      <th>url</th>\n",
       "      <th>headline</th>\n",
       "      <th>description</th>\n",
       "      <th>keywords</th>\n",
       "      <th>alternative_headline</th>\n",
       "      <th>text</th>\n",
       "    </tr>\n",
       "  </thead>\n",
       "  <tbody>\n",
       "    <tr>\n",
       "      <th>0</th>\n",
       "      <td>0</td>\n",
       "      <td>Jacopo Prisco, CNN</td>\n",
       "      <td>2021-07-15T02:46:59Z</td>\n",
       "      <td>news</td>\n",
       "      <td>world</td>\n",
       "      <td>https://www.cnn.com/2021/07/14/world/tusimple-...</td>\n",
       "      <td>There's a shortage of truckers, but TuSimple t...</td>\n",
       "      <td>The e-commerce boom has exacerbated a global t...</td>\n",
       "      <td>world, There's a shortage of truckers, but TuS...</td>\n",
       "      <td>There's a shortage of truckers, but TuSimple t...</td>\n",
       "      <td>(CNN)Right now, there's a shortage of truck d...</td>\n",
       "    </tr>\n",
       "    <tr>\n",
       "      <th>2</th>\n",
       "      <td>2</td>\n",
       "      <td>Stephanie Bailey, CNN</td>\n",
       "      <td>2021-05-12T07:52:09Z</td>\n",
       "      <td>news</td>\n",
       "      <td>world</td>\n",
       "      <td>https://www.cnn.com/2021/05/12/world/ironhand-...</td>\n",
       "      <td>Bioservo's robotic 'Ironhand' could protect fa...</td>\n",
       "      <td>Working in a factory can mean doing the same t...</td>\n",
       "      <td>world, Bioservo's robotic 'Ironhand' could pro...</td>\n",
       "      <td>A robotic 'Ironhand' could protect factory wor...</td>\n",
       "      <td>(CNN)Working in a factory or warehouse can me...</td>\n",
       "    </tr>\n",
       "    <tr>\n",
       "      <th>3</th>\n",
       "      <td>3</td>\n",
       "      <td>Words by Stephanie Bailey, video by Zahra Jamshed</td>\n",
       "      <td>2021-06-16T02:51:30Z</td>\n",
       "      <td>news</td>\n",
       "      <td>asia</td>\n",
       "      <td>https://www.cnn.com/2021/06/15/asia/swarm-robo...</td>\n",
       "      <td>This swarm of robots gets smarter the more it ...</td>\n",
       "      <td>In a Hong Kong warehouse, a swarm of autonomou...</td>\n",
       "      <td>asia, This swarm of robots gets smarter the mo...</td>\n",
       "      <td>This swarm of robots gets smarter the more it ...</td>\n",
       "      <td>(CNN)In a Hong Kong warehouse, a swarm of aut...</td>\n",
       "    </tr>\n",
       "    <tr>\n",
       "      <th>4</th>\n",
       "      <td>4</td>\n",
       "      <td>Paul R. La Monica, CNN Business</td>\n",
       "      <td>2022-03-15T09:57:36Z</td>\n",
       "      <td>business</td>\n",
       "      <td>investing</td>\n",
       "      <td>https://www.cnn.com/2022/03/15/investing/brics...</td>\n",
       "      <td>Russia is no longer an option for investors. T...</td>\n",
       "      <td>For many years, the world's most popular emerg...</td>\n",
       "      <td>investing, Russia is no longer an option for i...</td>\n",
       "      <td>Russia is no longer an option for investors. T...</td>\n",
       "      <td>New York (CNN Business)For many years, the wor...</td>\n",
       "    </tr>\n",
       "    <tr>\n",
       "      <th>7</th>\n",
       "      <td>7</td>\n",
       "      <td>Reuters</td>\n",
       "      <td>2022-03-15T11:27:02Z</td>\n",
       "      <td>business</td>\n",
       "      <td>business</td>\n",
       "      <td>https://www.cnn.com/2022/03/15/business/russia...</td>\n",
       "      <td>Russian energy investment ban part of new EU s...</td>\n",
       "      <td>The European Union formally approved on Tuesda...</td>\n",
       "      <td>business, Russian energy investment ban part o...</td>\n",
       "      <td>EU bans investment in Russian energy in new sa...</td>\n",
       "      <td>The European Union formally approved on Tuesda...</td>\n",
       "    </tr>\n",
       "  </tbody>\n",
       "</table>\n",
       "</div>"
      ],
      "text/plain": [
       "   Unnamed: 0                                             author  \\\n",
       "0           0                                 Jacopo Prisco, CNN   \n",
       "2           2                              Stephanie Bailey, CNN   \n",
       "3           3  Words by Stephanie Bailey, video by Zahra Jamshed   \n",
       "4           4                    Paul R. La Monica, CNN Business   \n",
       "7           7                                            Reuters   \n",
       "\n",
       "         date_published   part_of article_section  \\\n",
       "0  2021-07-15T02:46:59Z      news           world   \n",
       "2  2021-05-12T07:52:09Z      news           world   \n",
       "3  2021-06-16T02:51:30Z      news            asia   \n",
       "4  2022-03-15T09:57:36Z  business       investing   \n",
       "7  2022-03-15T11:27:02Z  business        business   \n",
       "\n",
       "                                                 url  \\\n",
       "0  https://www.cnn.com/2021/07/14/world/tusimple-...   \n",
       "2  https://www.cnn.com/2021/05/12/world/ironhand-...   \n",
       "3  https://www.cnn.com/2021/06/15/asia/swarm-robo...   \n",
       "4  https://www.cnn.com/2022/03/15/investing/brics...   \n",
       "7  https://www.cnn.com/2022/03/15/business/russia...   \n",
       "\n",
       "                                            headline  \\\n",
       "0  There's a shortage of truckers, but TuSimple t...   \n",
       "2  Bioservo's robotic 'Ironhand' could protect fa...   \n",
       "3  This swarm of robots gets smarter the more it ...   \n",
       "4  Russia is no longer an option for investors. T...   \n",
       "7  Russian energy investment ban part of new EU s...   \n",
       "\n",
       "                                         description  \\\n",
       "0  The e-commerce boom has exacerbated a global t...   \n",
       "2  Working in a factory can mean doing the same t...   \n",
       "3  In a Hong Kong warehouse, a swarm of autonomou...   \n",
       "4  For many years, the world's most popular emerg...   \n",
       "7  The European Union formally approved on Tuesda...   \n",
       "\n",
       "                                            keywords  \\\n",
       "0  world, There's a shortage of truckers, but TuS...   \n",
       "2  world, Bioservo's robotic 'Ironhand' could pro...   \n",
       "3  asia, This swarm of robots gets smarter the mo...   \n",
       "4  investing, Russia is no longer an option for i...   \n",
       "7  business, Russian energy investment ban part o...   \n",
       "\n",
       "                                alternative_headline  \\\n",
       "0  There's a shortage of truckers, but TuSimple t...   \n",
       "2  A robotic 'Ironhand' could protect factory wor...   \n",
       "3  This swarm of robots gets smarter the more it ...   \n",
       "4  Russia is no longer an option for investors. T...   \n",
       "7  EU bans investment in Russian energy in new sa...   \n",
       "\n",
       "                                                text  \n",
       "0   (CNN)Right now, there's a shortage of truck d...  \n",
       "2   (CNN)Working in a factory or warehouse can me...  \n",
       "3   (CNN)In a Hong Kong warehouse, a swarm of aut...  \n",
       "4  New York (CNN Business)For many years, the wor...  \n",
       "7  The European Union formally approved on Tuesda...  "
      ]
     },
     "execution_count": 8,
     "metadata": {},
     "output_type": "execute_result"
    }
   ],
   "source": [
    "df.head()"
   ]
  },
  {
   "cell_type": "code",
   "execution_count": 9,
   "id": "38e8fd1e",
   "metadata": {},
   "outputs": [
    {
     "name": "stderr",
     "output_type": "stream",
     "text": [
      "C:\\Users\\kcsof\\AppData\\Roaming\\Python\\Python39\\site-packages\\spacy\\util.py:837: UserWarning: [W095] Model 'en_core_web_sm' (3.0.0) was trained with spaCy v3.0 and may not be 100% compatible with the current version (3.3.3). If you see errors or degraded performance, download a newer compatible model or retrain your custom model with the current spaCy version. For more details and available updates, run: python -m spacy validate\n",
      "  warnings.warn(warn_msg)\n",
      "C:\\Users\\kcsof\\AppData\\Roaming\\Python\\Python39\\site-packages\\torch\\__init__.py:1144: UserWarning: torch.set_default_tensor_type() is deprecated as of PyTorch 2.1, please use torch.set_default_dtype() and torch.set_default_device() as alternatives. (Triggered internally at C:\\actions-runner\\_work\\pytorch\\pytorch\\builder\\windows\\pytorch\\torch\\csrc\\tensor\\python_tensor.cpp:434.)\n",
      "  _C._set_default_tensor_type(t)\n"
     ]
    }
   ],
   "source": [
    "#load the spaCy model\n",
    "nlp = spacy.load(\"en_core_web_sm\")"
   ]
  },
  {
   "cell_type": "code",
   "execution_count": 10,
   "id": "001fc913",
   "metadata": {},
   "outputs": [],
   "source": [
    "#make a function to extract entities\n",
    "# Function to extract entities \n",
    "def extract_entities(text):\n",
    "    doc = nlp(text)\n",
    "    people = []\n",
    "    places = []\n",
    "    companies = []\n",
    "    for ent in doc.ents:\n",
    "        if ent.label_ == 'PERSON':\n",
    "            people.append(ent.text)\n",
    "        elif ent.label_ in ['GPE', 'LOC']: \n",
    "            places.append(ent.text) \n",
    "        elif ent.label_ == 'ORG':\n",
    "            companies.append(ent.text) \n",
    "    return pd.Series([people, places, companies])"
   ]
  },
  {
   "cell_type": "code",
   "execution_count": 11,
   "id": "9cfe40a8",
   "metadata": {},
   "outputs": [
    {
     "name": "stdout",
     "output_type": "stream",
     "text": [
      "DataFrame with extracted entities:\n",
      "   Unnamed: 0                                             author  \\\n",
      "0           0                                 Jacopo Prisco, CNN   \n",
      "2           2                              Stephanie Bailey, CNN   \n",
      "3           3  Words by Stephanie Bailey, video by Zahra Jamshed   \n",
      "4           4                    Paul R. La Monica, CNN Business   \n",
      "7           7                                            Reuters   \n",
      "\n",
      "         date_published   part_of article_section  \\\n",
      "0  2021-07-15T02:46:59Z      news           world   \n",
      "2  2021-05-12T07:52:09Z      news           world   \n",
      "3  2021-06-16T02:51:30Z      news            asia   \n",
      "4  2022-03-15T09:57:36Z  business       investing   \n",
      "7  2022-03-15T11:27:02Z  business        business   \n",
      "\n",
      "                                                 url  \\\n",
      "0  https://www.cnn.com/2021/07/14/world/tusimple-...   \n",
      "2  https://www.cnn.com/2021/05/12/world/ironhand-...   \n",
      "3  https://www.cnn.com/2021/06/15/asia/swarm-robo...   \n",
      "4  https://www.cnn.com/2022/03/15/investing/brics...   \n",
      "7  https://www.cnn.com/2022/03/15/business/russia...   \n",
      "\n",
      "                                            headline  \\\n",
      "0  There's a shortage of truckers, but TuSimple t...   \n",
      "2  Bioservo's robotic 'Ironhand' could protect fa...   \n",
      "3  This swarm of robots gets smarter the more it ...   \n",
      "4  Russia is no longer an option for investors. T...   \n",
      "7  Russian energy investment ban part of new EU s...   \n",
      "\n",
      "                                         description  \\\n",
      "0  The e-commerce boom has exacerbated a global t...   \n",
      "2  Working in a factory can mean doing the same t...   \n",
      "3  In a Hong Kong warehouse, a swarm of autonomou...   \n",
      "4  For many years, the world's most popular emerg...   \n",
      "7  The European Union formally approved on Tuesda...   \n",
      "\n",
      "                                            keywords  \\\n",
      "0  world, There's a shortage of truckers, but TuS...   \n",
      "2  world, Bioservo's robotic 'Ironhand' could pro...   \n",
      "3  asia, This swarm of robots gets smarter the mo...   \n",
      "4  investing, Russia is no longer an option for i...   \n",
      "7  business, Russian energy investment ban part o...   \n",
      "\n",
      "                                alternative_headline  \\\n",
      "0  There's a shortage of truckers, but TuSimple t...   \n",
      "2  A robotic 'Ironhand' could protect factory wor...   \n",
      "3  This swarm of robots gets smarter the more it ...   \n",
      "4  Russia is no longer an option for investors. T...   \n",
      "7  EU bans investment in Russian energy in new sa...   \n",
      "\n",
      "                                                text  \\\n",
      "0   (CNN)Right now, there's a shortage of truck d...   \n",
      "2   (CNN)Working in a factory or warehouse can me...   \n",
      "3   (CNN)In a Hong Kong warehouse, a swarm of aut...   \n",
      "4  New York (CNN Business)For many years, the wor...   \n",
      "7  The European Union formally approved on Tuesda...   \n",
      "\n",
      "                                              People  \\\n",
      "0  [Navistar, Hardt, Uber, Steve Lee, Alstom, Che...   \n",
      "2  [Ocado, Ava Robotics, Stretch, Mikael Wester, ...   \n",
      "3    [Ocado, Ava Robotics, Stretch, Geek+, Lit Fung]   \n",
      "4  [Eric Winograd, Winograd, Mychal Campos, Winog...   \n",
      "7  [Roman Abramovich, Transneft, Putin, Rishi Sun...   \n",
      "\n",
      "                                              Places  \\\n",
      "0  [US, San Diego, US, China, Europe, US, Traton,...   \n",
      "2  [Ironhand, London, Telexistence, Tokyo, Taastr...   \n",
      "3  [Hong Kong, London, Telexistence, Tokyo, Taast...   \n",
      "4  [New York, Brazil, Russia, India, China, South...   \n",
      "7  [Russia, Ukraine, Russia, Russia, Russia, Russ...   \n",
      "\n",
      "                                           Companies  \n",
      "0  [TuSimple, Volkswagen, Oceanbird, Maglev, Delf...  \n",
      "2  [Bioservo, MIT, the Greater Boston Food Bank, ...  \n",
      "3  [The Autonomous Mobile Robots, AI, MIT, the Gr...  \n",
      "4  [CNN, BRICS, BRICS, AllianceBernstein, MTS, th...  \n",
      "7  [The European Union, EU, Chelsea, The European...  \n"
     ]
    }
   ],
   "source": [
    "# Apply the function to the DataFrame \n",
    "tqdm.pandas() #progress bar to check function completion progress\n",
    "df[['People', 'Places', 'Companies']] = df['text'].apply(extract_entities)\n",
    "\n",
    "print(\"DataFrame with extracted entities:\")\n",
    "print(df.head())"
   ]
  },
  {
   "cell_type": "code",
   "execution_count": 15,
   "id": "08374800",
   "metadata": {},
   "outputs": [
    {
     "name": "stderr",
     "output_type": "stream",
     "text": [
      "[nltk_data] Downloading package punkt to\n",
      "[nltk_data]     C:\\Users\\kcsof\\AppData\\Roaming\\nltk_data...\n",
      "[nltk_data]   Unzipping tokenizers\\punkt.zip.\n",
      "[nltk_data] Downloading package stopwords to\n",
      "[nltk_data]     C:\\Users\\kcsof\\AppData\\Roaming\\nltk_data...\n",
      "[nltk_data]   Package stopwords is already up-to-date!\n"
     ]
    },
    {
     "data": {
      "text/plain": [
       "True"
      ]
     },
     "execution_count": 15,
     "metadata": {},
     "output_type": "execute_result"
    }
   ],
   "source": [
    "##Topic Modeling\n",
    "# Download NLTK data \n",
    "nltk.download('punkt') \n",
    "nltk.download('stopwords')"
   ]
  },
  {
   "cell_type": "code",
   "execution_count": 21,
   "id": "0602ef8b",
   "metadata": {},
   "outputs": [],
   "source": [
    "# Preprocess the text \n",
    "stop_words = set(stopwords.words('english')) \n",
    "df['Processed_Text'] = df['text'].apply(lambda x: [word for word in word_tokenize(x.lower()) if word.isalnum() and word not in stop_words])"
   ]
  },
  {
   "cell_type": "code",
   "execution_count": 22,
   "id": "54afa667",
   "metadata": {},
   "outputs": [],
   "source": [
    "# Create a dictionary and corpus \n",
    "dictionary = corpora.Dictionary(df['Processed_Text']) \n",
    "corpus = [dictionary.doc2bow(text) for text in df['Processed_Text']]"
   ]
  },
  {
   "cell_type": "code",
   "execution_count": 23,
   "id": "ade04a13",
   "metadata": {},
   "outputs": [],
   "source": [
    "# Run LDA model \n",
    "lda_model = models.LdaModel(corpus, num_topics=3, id2word=dictionary, passes=15)\n",
    "\n",
    "# Get the top words for each topic \n",
    "topics = lda_model.show_topics(formatted=False)\n",
    "\n",
    "# Create a mapping of topic numbers to top words \n",
    "topic_words = {i: [word for word, _ in topic] for i, topic in topics}"
   ]
  },
  {
   "cell_type": "code",
   "execution_count": 24,
   "id": "a8ac0280",
   "metadata": {},
   "outputs": [],
   "source": [
    "# Make a function to get the dominant topic \n",
    "def get_dominant_topic(bow): \n",
    "    topics = lda_model.get_document_topics(bow) \n",
    "    dominant_topic = max(topics, key=lambda x: x[1])[0] \n",
    "    return ', '.join(topic_words[dominant_topic])"
   ]
  },
  {
   "cell_type": "code",
   "execution_count": 25,
   "id": "a39623c1",
   "metadata": {},
   "outputs": [
    {
     "data": {
      "text/html": [
       "<div>\n",
       "<style scoped>\n",
       "    .dataframe tbody tr th:only-of-type {\n",
       "        vertical-align: middle;\n",
       "    }\n",
       "\n",
       "    .dataframe tbody tr th {\n",
       "        vertical-align: top;\n",
       "    }\n",
       "\n",
       "    .dataframe thead th {\n",
       "        text-align: right;\n",
       "    }\n",
       "</style>\n",
       "<table border=\"1\" class=\"dataframe\">\n",
       "  <thead>\n",
       "    <tr style=\"text-align: right;\">\n",
       "      <th></th>\n",
       "      <th>Unnamed: 0</th>\n",
       "      <th>author</th>\n",
       "      <th>date_published</th>\n",
       "      <th>part_of</th>\n",
       "      <th>article_section</th>\n",
       "      <th>url</th>\n",
       "      <th>headline</th>\n",
       "      <th>description</th>\n",
       "      <th>keywords</th>\n",
       "      <th>alternative_headline</th>\n",
       "      <th>text</th>\n",
       "      <th>People</th>\n",
       "      <th>Places</th>\n",
       "      <th>Companies</th>\n",
       "      <th>Processed_Text</th>\n",
       "      <th>Dominant_Topic</th>\n",
       "    </tr>\n",
       "  </thead>\n",
       "  <tbody>\n",
       "    <tr>\n",
       "      <th>0</th>\n",
       "      <td>0</td>\n",
       "      <td>Jacopo Prisco, CNN</td>\n",
       "      <td>2021-07-15T02:46:59Z</td>\n",
       "      <td>news</td>\n",
       "      <td>world</td>\n",
       "      <td>https://www.cnn.com/2021/07/14/world/tusimple-...</td>\n",
       "      <td>There's a shortage of truckers, but TuSimple t...</td>\n",
       "      <td>The e-commerce boom has exacerbated a global t...</td>\n",
       "      <td>world, There's a shortage of truckers, but TuS...</td>\n",
       "      <td>There's a shortage of truckers, but TuSimple t...</td>\n",
       "      <td>(CNN)Right now, there's a shortage of truck d...</td>\n",
       "      <td>[Navistar, Hardt, Uber, Steve Lee, Alstom, Che...</td>\n",
       "      <td>[US, San Diego, US, China, Europe, US, Traton,...</td>\n",
       "      <td>[TuSimple, Volkswagen, Oceanbird, Maglev, Delf...</td>\n",
       "      <td>[cnn, right, shortage, truck, drivers, us, wor...</td>\n",
       "      <td>said, people, one, says, photos, caption, cnn,...</td>\n",
       "    </tr>\n",
       "    <tr>\n",
       "      <th>2</th>\n",
       "      <td>2</td>\n",
       "      <td>Stephanie Bailey, CNN</td>\n",
       "      <td>2021-05-12T07:52:09Z</td>\n",
       "      <td>news</td>\n",
       "      <td>world</td>\n",
       "      <td>https://www.cnn.com/2021/05/12/world/ironhand-...</td>\n",
       "      <td>Bioservo's robotic 'Ironhand' could protect fa...</td>\n",
       "      <td>Working in a factory can mean doing the same t...</td>\n",
       "      <td>world, Bioservo's robotic 'Ironhand' could pro...</td>\n",
       "      <td>A robotic 'Ironhand' could protect factory wor...</td>\n",
       "      <td>(CNN)Working in a factory or warehouse can me...</td>\n",
       "      <td>[Ocado, Ava Robotics, Stretch, Mikael Wester, ...</td>\n",
       "      <td>[Ironhand, London, Telexistence, Tokyo, Taastr...</td>\n",
       "      <td>[Bioservo, MIT, the Greater Boston Food Bank, ...</td>\n",
       "      <td>[cnn, working, factory, warehouse, mean, task,...</td>\n",
       "      <td>said, people, one, says, photos, caption, cnn,...</td>\n",
       "    </tr>\n",
       "    <tr>\n",
       "      <th>3</th>\n",
       "      <td>3</td>\n",
       "      <td>Words by Stephanie Bailey, video by Zahra Jamshed</td>\n",
       "      <td>2021-06-16T02:51:30Z</td>\n",
       "      <td>news</td>\n",
       "      <td>asia</td>\n",
       "      <td>https://www.cnn.com/2021/06/15/asia/swarm-robo...</td>\n",
       "      <td>This swarm of robots gets smarter the more it ...</td>\n",
       "      <td>In a Hong Kong warehouse, a swarm of autonomou...</td>\n",
       "      <td>asia, This swarm of robots gets smarter the mo...</td>\n",
       "      <td>This swarm of robots gets smarter the more it ...</td>\n",
       "      <td>(CNN)In a Hong Kong warehouse, a swarm of aut...</td>\n",
       "      <td>[Ocado, Ava Robotics, Stretch, Geek+, Lit Fung]</td>\n",
       "      <td>[Hong Kong, London, Telexistence, Tokyo, Taast...</td>\n",
       "      <td>[The Autonomous Mobile Robots, AI, MIT, the Gr...</td>\n",
       "      <td>[cnn, hong, kong, warehouse, swarm, autonomous...</td>\n",
       "      <td>said, people, one, says, photos, caption, cnn,...</td>\n",
       "    </tr>\n",
       "    <tr>\n",
       "      <th>4</th>\n",
       "      <td>4</td>\n",
       "      <td>Paul R. La Monica, CNN Business</td>\n",
       "      <td>2022-03-15T09:57:36Z</td>\n",
       "      <td>business</td>\n",
       "      <td>investing</td>\n",
       "      <td>https://www.cnn.com/2022/03/15/investing/brics...</td>\n",
       "      <td>Russia is no longer an option for investors. T...</td>\n",
       "      <td>For many years, the world's most popular emerg...</td>\n",
       "      <td>investing, Russia is no longer an option for i...</td>\n",
       "      <td>Russia is no longer an option for investors. T...</td>\n",
       "      <td>New York (CNN Business)For many years, the wor...</td>\n",
       "      <td>[Eric Winograd, Winograd, Mychal Campos, Winog...</td>\n",
       "      <td>[New York, Brazil, Russia, India, China, South...</td>\n",
       "      <td>[CNN, BRICS, BRICS, AllianceBernstein, MTS, th...</td>\n",
       "      <td>[new, york, cnn, business, many, years, world,...</td>\n",
       "      <td>said, people, one, says, photos, caption, cnn,...</td>\n",
       "    </tr>\n",
       "    <tr>\n",
       "      <th>7</th>\n",
       "      <td>7</td>\n",
       "      <td>Reuters</td>\n",
       "      <td>2022-03-15T11:27:02Z</td>\n",
       "      <td>business</td>\n",
       "      <td>business</td>\n",
       "      <td>https://www.cnn.com/2022/03/15/business/russia...</td>\n",
       "      <td>Russian energy investment ban part of new EU s...</td>\n",
       "      <td>The European Union formally approved on Tuesda...</td>\n",
       "      <td>business, Russian energy investment ban part o...</td>\n",
       "      <td>EU bans investment in Russian energy in new sa...</td>\n",
       "      <td>The European Union formally approved on Tuesda...</td>\n",
       "      <td>[Roman Abramovich, Transneft, Putin, Rishi Sun...</td>\n",
       "      <td>[Russia, Ukraine, Russia, Russia, Russia, Russ...</td>\n",
       "      <td>[The European Union, EU, Chelsea, The European...</td>\n",
       "      <td>[european, union, formally, approved, tuesday,...</td>\n",
       "      <td>said, cnn, people, government, peng, country, ...</td>\n",
       "    </tr>\n",
       "  </tbody>\n",
       "</table>\n",
       "</div>"
      ],
      "text/plain": [
       "   Unnamed: 0                                             author  \\\n",
       "0           0                                 Jacopo Prisco, CNN   \n",
       "2           2                              Stephanie Bailey, CNN   \n",
       "3           3  Words by Stephanie Bailey, video by Zahra Jamshed   \n",
       "4           4                    Paul R. La Monica, CNN Business   \n",
       "7           7                                            Reuters   \n",
       "\n",
       "         date_published   part_of article_section  \\\n",
       "0  2021-07-15T02:46:59Z      news           world   \n",
       "2  2021-05-12T07:52:09Z      news           world   \n",
       "3  2021-06-16T02:51:30Z      news            asia   \n",
       "4  2022-03-15T09:57:36Z  business       investing   \n",
       "7  2022-03-15T11:27:02Z  business        business   \n",
       "\n",
       "                                                 url  \\\n",
       "0  https://www.cnn.com/2021/07/14/world/tusimple-...   \n",
       "2  https://www.cnn.com/2021/05/12/world/ironhand-...   \n",
       "3  https://www.cnn.com/2021/06/15/asia/swarm-robo...   \n",
       "4  https://www.cnn.com/2022/03/15/investing/brics...   \n",
       "7  https://www.cnn.com/2022/03/15/business/russia...   \n",
       "\n",
       "                                            headline  \\\n",
       "0  There's a shortage of truckers, but TuSimple t...   \n",
       "2  Bioservo's robotic 'Ironhand' could protect fa...   \n",
       "3  This swarm of robots gets smarter the more it ...   \n",
       "4  Russia is no longer an option for investors. T...   \n",
       "7  Russian energy investment ban part of new EU s...   \n",
       "\n",
       "                                         description  \\\n",
       "0  The e-commerce boom has exacerbated a global t...   \n",
       "2  Working in a factory can mean doing the same t...   \n",
       "3  In a Hong Kong warehouse, a swarm of autonomou...   \n",
       "4  For many years, the world's most popular emerg...   \n",
       "7  The European Union formally approved on Tuesda...   \n",
       "\n",
       "                                            keywords  \\\n",
       "0  world, There's a shortage of truckers, but TuS...   \n",
       "2  world, Bioservo's robotic 'Ironhand' could pro...   \n",
       "3  asia, This swarm of robots gets smarter the mo...   \n",
       "4  investing, Russia is no longer an option for i...   \n",
       "7  business, Russian energy investment ban part o...   \n",
       "\n",
       "                                alternative_headline  \\\n",
       "0  There's a shortage of truckers, but TuSimple t...   \n",
       "2  A robotic 'Ironhand' could protect factory wor...   \n",
       "3  This swarm of robots gets smarter the more it ...   \n",
       "4  Russia is no longer an option for investors. T...   \n",
       "7  EU bans investment in Russian energy in new sa...   \n",
       "\n",
       "                                                text  \\\n",
       "0   (CNN)Right now, there's a shortage of truck d...   \n",
       "2   (CNN)Working in a factory or warehouse can me...   \n",
       "3   (CNN)In a Hong Kong warehouse, a swarm of aut...   \n",
       "4  New York (CNN Business)For many years, the wor...   \n",
       "7  The European Union formally approved on Tuesda...   \n",
       "\n",
       "                                              People  \\\n",
       "0  [Navistar, Hardt, Uber, Steve Lee, Alstom, Che...   \n",
       "2  [Ocado, Ava Robotics, Stretch, Mikael Wester, ...   \n",
       "3    [Ocado, Ava Robotics, Stretch, Geek+, Lit Fung]   \n",
       "4  [Eric Winograd, Winograd, Mychal Campos, Winog...   \n",
       "7  [Roman Abramovich, Transneft, Putin, Rishi Sun...   \n",
       "\n",
       "                                              Places  \\\n",
       "0  [US, San Diego, US, China, Europe, US, Traton,...   \n",
       "2  [Ironhand, London, Telexistence, Tokyo, Taastr...   \n",
       "3  [Hong Kong, London, Telexistence, Tokyo, Taast...   \n",
       "4  [New York, Brazil, Russia, India, China, South...   \n",
       "7  [Russia, Ukraine, Russia, Russia, Russia, Russ...   \n",
       "\n",
       "                                           Companies  \\\n",
       "0  [TuSimple, Volkswagen, Oceanbird, Maglev, Delf...   \n",
       "2  [Bioservo, MIT, the Greater Boston Food Bank, ...   \n",
       "3  [The Autonomous Mobile Robots, AI, MIT, the Gr...   \n",
       "4  [CNN, BRICS, BRICS, AllianceBernstein, MTS, th...   \n",
       "7  [The European Union, EU, Chelsea, The European...   \n",
       "\n",
       "                                      Processed_Text  \\\n",
       "0  [cnn, right, shortage, truck, drivers, us, wor...   \n",
       "2  [cnn, working, factory, warehouse, mean, task,...   \n",
       "3  [cnn, hong, kong, warehouse, swarm, autonomous...   \n",
       "4  [new, york, cnn, business, many, years, world,...   \n",
       "7  [european, union, formally, approved, tuesday,...   \n",
       "\n",
       "                                      Dominant_Topic  \n",
       "0  said, people, one, says, photos, caption, cnn,...  \n",
       "2  said, people, one, says, photos, caption, cnn,...  \n",
       "3  said, people, one, says, photos, caption, cnn,...  \n",
       "4  said, people, one, says, photos, caption, cnn,...  \n",
       "7  said, cnn, people, government, peng, country, ...  "
      ]
     },
     "execution_count": 25,
     "metadata": {},
     "output_type": "execute_result"
    }
   ],
   "source": [
    "# Apply the function to the DataFrame \n",
    "df['Dominant_Topic'] = df['Processed_Text'].apply(lambda x: get_dominant_topic(dictionary.doc2bow(x)))\n",
    "df.head() #not ideal topic extraction, let's try bert instead"
   ]
  },
  {
   "cell_type": "code",
   "execution_count": 27,
   "id": "b8bfff08",
   "metadata": {},
   "outputs": [],
   "source": [
    "from bertopic import BERTopic\n",
    "\n",
    "# Initialize BERTopic model \n",
    "topic_model = BERTopic()"
   ]
  },
  {
   "cell_type": "code",
   "execution_count": 29,
   "id": "7b58a08c",
   "metadata": {},
   "outputs": [
    {
     "data": {
      "application/vnd.jupyter.widget-view+json": {
       "model_id": "a6ff0d9734db434398f0e37e89357030",
       "version_major": 2,
       "version_minor": 0
      },
      "text/plain": [
       "modules.json:   0%|          | 0.00/349 [00:00<?, ?B/s]"
      ]
     },
     "metadata": {},
     "output_type": "display_data"
    },
    {
     "data": {
      "application/vnd.jupyter.widget-view+json": {
       "model_id": "76ba21fd76b2419d9d860ad30ad1518a",
       "version_major": 2,
       "version_minor": 0
      },
      "text/plain": [
       "config_sentence_transformers.json:   0%|          | 0.00/116 [00:00<?, ?B/s]"
      ]
     },
     "metadata": {},
     "output_type": "display_data"
    },
    {
     "data": {
      "application/vnd.jupyter.widget-view+json": {
       "model_id": "d7e3d53e14e443aa8de3ecbf79f2d512",
       "version_major": 2,
       "version_minor": 0
      },
      "text/plain": [
       "README.md:   0%|          | 0.00/10.7k [00:00<?, ?B/s]"
      ]
     },
     "metadata": {},
     "output_type": "display_data"
    },
    {
     "data": {
      "application/vnd.jupyter.widget-view+json": {
       "model_id": "0f6cea3da1da4562843cff50fcccf7a9",
       "version_major": 2,
       "version_minor": 0
      },
      "text/plain": [
       "sentence_bert_config.json:   0%|          | 0.00/53.0 [00:00<?, ?B/s]"
      ]
     },
     "metadata": {},
     "output_type": "display_data"
    },
    {
     "data": {
      "application/vnd.jupyter.widget-view+json": {
       "model_id": "b575c4456b414b5d851cfd559c7a6c84",
       "version_major": 2,
       "version_minor": 0
      },
      "text/plain": [
       "config.json:   0%|          | 0.00/612 [00:00<?, ?B/s]"
      ]
     },
     "metadata": {},
     "output_type": "display_data"
    },
    {
     "data": {
      "application/vnd.jupyter.widget-view+json": {
       "model_id": "2c5ba3965ed24e4db66877ef2721b021",
       "version_major": 2,
       "version_minor": 0
      },
      "text/plain": [
       "model.safetensors:   0%|          | 0.00/90.9M [00:00<?, ?B/s]"
      ]
     },
     "metadata": {},
     "output_type": "display_data"
    },
    {
     "data": {
      "application/vnd.jupyter.widget-view+json": {
       "model_id": "d4000e807d4142daa7017db5c23921c1",
       "version_major": 2,
       "version_minor": 0
      },
      "text/plain": [
       "tokenizer_config.json:   0%|          | 0.00/350 [00:00<?, ?B/s]"
      ]
     },
     "metadata": {},
     "output_type": "display_data"
    },
    {
     "data": {
      "application/vnd.jupyter.widget-view+json": {
       "model_id": "336d07e48c0743ab834c37349e3435bd",
       "version_major": 2,
       "version_minor": 0
      },
      "text/plain": [
       "vocab.txt:   0%|          | 0.00/232k [00:00<?, ?B/s]"
      ]
     },
     "metadata": {},
     "output_type": "display_data"
    },
    {
     "data": {
      "application/vnd.jupyter.widget-view+json": {
       "model_id": "4a64da2d842b434fb0dc4196acfab6ee",
       "version_major": 2,
       "version_minor": 0
      },
      "text/plain": [
       "tokenizer.json:   0%|          | 0.00/466k [00:00<?, ?B/s]"
      ]
     },
     "metadata": {},
     "output_type": "display_data"
    },
    {
     "data": {
      "application/vnd.jupyter.widget-view+json": {
       "model_id": "14fb4c53af704b91887a373adf0efec5",
       "version_major": 2,
       "version_minor": 0
      },
      "text/plain": [
       "special_tokens_map.json:   0%|          | 0.00/112 [00:00<?, ?B/s]"
      ]
     },
     "metadata": {},
     "output_type": "display_data"
    },
    {
     "data": {
      "application/vnd.jupyter.widget-view+json": {
       "model_id": "023c88b094844a1bbd5070862e66c503",
       "version_major": 2,
       "version_minor": 0
      },
      "text/plain": [
       "1_Pooling/config.json:   0%|          | 0.00/190 [00:00<?, ?B/s]"
      ]
     },
     "metadata": {},
     "output_type": "display_data"
    }
   ],
   "source": [
    "# Fit the model and transform the text \n",
    "topics, _ = topic_model.fit_transform(df['text']) \n",
    "# Add the topics to the DataFrame \n",
    "df['Topic'] = topics"
   ]
  },
  {
   "cell_type": "code",
   "execution_count": 31,
   "id": "371ba0cc",
   "metadata": {},
   "outputs": [],
   "source": [
    "# Function to get the topic words \n",
    "def get_topic_words(topic_model, topic):\n",
    "    if topic == -1:\n",
    "        return \"No dominant topic\"\n",
    "    topic_words = topic_model.get_topic(topic) \n",
    "    return ', '.join([word for word, _ in topic_words])"
   ]
  },
  {
   "cell_type": "code",
   "execution_count": 32,
   "id": "7d946b69",
   "metadata": {},
   "outputs": [],
   "source": [
    "# Apply the function to the DataFrame\n",
    "df['Topic'] = topics\n",
    "df['Topic_Words'] = df['Topic'].apply(lambda x: get_topic_words(topic_model, x))"
   ]
  },
  {
   "cell_type": "code",
   "execution_count": 33,
   "id": "312a2a5a",
   "metadata": {},
   "outputs": [
    {
     "name": "stdout",
     "output_type": "stream",
     "text": [
      "DataFrame with BERT detected topics:\n",
      "      Unnamed: 0                                             author  \\\n",
      "0              0                                 Jacopo Prisco, CNN   \n",
      "2              2                              Stephanie Bailey, CNN   \n",
      "3              3  Words by Stephanie Bailey, video by Zahra Jamshed   \n",
      "4              4                    Paul R. La Monica, CNN Business   \n",
      "7              7                                            Reuters   \n",
      "...          ...                                                ...   \n",
      "4725        4725                                   Story by Reuters   \n",
      "4726        4726                           Homero De la Fuente, CNN   \n",
      "4727        4727                                  Amy Woodyatt, CNN   \n",
      "4728        4728                                   Story by Reuters   \n",
      "4729        4729                 Analysis by Stephen Collinson, CNN   \n",
      "\n",
      "            date_published   part_of article_section  \\\n",
      "0     2021-07-15T02:46:59Z      news           world   \n",
      "2     2021-05-12T07:52:09Z      news           world   \n",
      "3     2021-06-16T02:51:30Z      news            asia   \n",
      "4     2022-03-15T09:57:36Z  business       investing   \n",
      "7     2022-03-15T11:27:02Z  business        business   \n",
      "...                    ...       ...             ...   \n",
      "4725  2021-12-01T10:01:29Z     sport          tennis   \n",
      "4726  2021-12-01T17:56:15Z     sport            golf   \n",
      "4727  2021-12-01T11:32:15Z     sport          tennis   \n",
      "4728  2021-12-01T17:27:34Z      news          europe   \n",
      "4729  2021-12-01T14:32:33Z     sport            golf   \n",
      "\n",
      "                                                    url  \\\n",
      "0     https://www.cnn.com/2021/07/14/world/tusimple-...   \n",
      "2     https://www.cnn.com/2021/05/12/world/ironhand-...   \n",
      "3     https://www.cnn.com/2021/06/15/asia/swarm-robo...   \n",
      "4     https://www.cnn.com/2022/03/15/investing/brics...   \n",
      "7     https://www.cnn.com/2022/03/15/business/russia...   \n",
      "...                                                 ...   \n",
      "4725  https://www.cnn.com/2021/12/01/tennis/australi...   \n",
      "4726  https://www.cnn.com/2021/12/01/golf/south-afri...   \n",
      "4727  https://www.cnn.com/2021/12/01/tennis/peng-shu...   \n",
      "4728  https://www.cnn.com/2021/12/01/europe/cow-dung...   \n",
      "4729  https://www.cnn.com/2021/12/01/golf/tiger-wood...   \n",
      "\n",
      "                                               headline  \\\n",
      "0     There's a shortage of truckers, but TuSimple t...   \n",
      "2     Bioservo's robotic 'Ironhand' could protect fa...   \n",
      "3     This swarm of robots gets smarter the more it ...   \n",
      "4     Russia is no longer an option for investors. T...   \n",
      "7     Russian energy investment ban part of new EU s...   \n",
      "...                                                 ...   \n",
      "4725  Australian Open: Australia's vaccine mandate i...   \n",
      "4726  Four golfers test positive ahead of South Afri...   \n",
      "4727  Peng Shuai: 'Unanimous conclusion' that tennis...   \n",
      "4728  This company is \"zapping\" cow dung with lightn...   \n",
      "4729     Tiger Woods: Is this the end of his era? - CNN   \n",
      "\n",
      "                                            description  \\\n",
      "0     The e-commerce boom has exacerbated a global t...   \n",
      "2     Working in a factory can mean doing the same t...   \n",
      "3     In a Hong Kong warehouse, a swarm of autonomou...   \n",
      "4     For many years, the world's most popular emerg...   \n",
      "7     The European Union formally approved on Tuesda...   \n",
      "...                                                 ...   \n",
      "4725  The Australian Open's Covid-19 vaccine mandate...   \n",
      "4726  Four golfers scheduled to play in the South Af...   \n",
      "4727  Long-time International Olympic Committee (IOC...   \n",
      "4728  A Norwegian technology company has found a way...   \n",
      "4729  Tiger Woods is the rarest of athletes. At his ...   \n",
      "\n",
      "                                               keywords  \\\n",
      "0     world, There's a shortage of truckers, but TuS...   \n",
      "2     world, Bioservo's robotic 'Ironhand' could pro...   \n",
      "3     asia, This swarm of robots gets smarter the mo...   \n",
      "4     investing, Russia is no longer an option for i...   \n",
      "7     business, Russian energy investment ban part o...   \n",
      "...                                                 ...   \n",
      "4725  tennis, Australian Open: Australia's vaccine m...   \n",
      "4726  golf, Four golfers test positive ahead of Sout...   \n",
      "4727  tennis, Peng Shuai: 'Unanimous conclusion' tha...   \n",
      "4728  europe, This company is \"zapping\" cow dung wit...   \n",
      "4729  golf, Tiger Woods: Is this the end of his era?...   \n",
      "\n",
      "                                   alternative_headline  \\\n",
      "0     There's a shortage of truckers, but TuSimple t...   \n",
      "2     A robotic 'Ironhand' could protect factory wor...   \n",
      "3     This swarm of robots gets smarter the more it ...   \n",
      "4     Russia is no longer an option for investors. T...   \n",
      "7     EU bans investment in Russian energy in new sa...   \n",
      "...                                                 ...   \n",
      "4725  Australia's vaccine mandate is not to 'blackma...   \n",
      "4726  Four golfers test positive ahead of South Afri...   \n",
      "4727  'Unanimous conclusion' that Peng Shuai is 'fin...   \n",
      "4728  Zapping cow dung with lightning is helping to ...   \n",
      "4729            Is this the end of the Tiger Woods era?   \n",
      "\n",
      "                                                   text  \\\n",
      "0      (CNN)Right now, there's a shortage of truck d...   \n",
      "2      (CNN)Working in a factory or warehouse can me...   \n",
      "3      (CNN)In a Hong Kong warehouse, a swarm of aut...   \n",
      "4     New York (CNN Business)For many years, the wor...   \n",
      "7     The European Union formally approved on Tuesda...   \n",
      "...                                                 ...   \n",
      "4725   (Reuters)The Australian Open's Covid-19 vacci...   \n",
      "4726   (CNN)Four golfers scheduled to play in the So...   \n",
      "4727   (CNN)Long-time International Olympic Committe...   \n",
      "4728  A Norwegian technology company has found a way...   \n",
      "4729  This story was excerpted from the November 23 ...   \n",
      "\n",
      "                                                 People  \\\n",
      "0     [Navistar, Hardt, Uber, Steve Lee, Alstom, Che...   \n",
      "2     [Ocado, Ava Robotics, Stretch, Mikael Wester, ...   \n",
      "3       [Ocado, Ava Robotics, Stretch, Geek+, Lit Fung]   \n",
      "4     [Eric Winograd, Winograd, Mychal Campos, Winog...   \n",
      "7     [Roman Abramovich, Transneft, Putin, Rishi Sun...   \n",
      "...                                                 ...   \n",
      "4725  [Srdjan Djokovic, Martin Pakula, Pakula, Pakul...   \n",
      "4726  [Dylan Mostert, Teaghan Gauche, Darren Fichard...   \n",
      "4727  [Dick Pound, Peng Shuai, Peng, Pound, Peng, Zh...   \n",
      "4728                  [Chris Puttick, Puttick, Puttick]   \n",
      "4729  [Tiger Woods, Michael Jordan, Diego Maradona, ...   \n",
      "\n",
      "                                                 Places  \\\n",
      "0     [US, San Diego, US, China, Europe, US, Traton,...   \n",
      "2     [Ironhand, London, Telexistence, Tokyo, Taastr...   \n",
      "3     [Hong Kong, London, Telexistence, Tokyo, Taast...   \n",
      "4     [New York, Brazil, Russia, India, China, South...   \n",
      "7     [Russia, Ukraine, Russia, Russia, Russia, Russ...   \n",
      "...                                                 ...   \n",
      "4725                        [Melbourne, Melbourne Park]   \n",
      "4726             [the South African Open, South Africa]   \n",
      "4727  [China, Daria, China, Beijing, China, China, C...   \n",
      "4728  [Europe, Buckinghamshire, England, pH, UK, Buc...   \n",
      "4729       [America, US, Paris, France, Earth, Augusta]   \n",
      "\n",
      "                                              Companies  \\\n",
      "0     [TuSimple, Volkswagen, Oceanbird, Maglev, Delf...   \n",
      "2     [Bioservo, MIT, the Greater Boston Food Bank, ...   \n",
      "3     [The Autonomous Mobile Robots, AI, MIT, the Gr...   \n",
      "4     [CNN, BRICS, BRICS, AllianceBernstein, MTS, th...   \n",
      "7     [The European Union, EU, Chelsea, The European...   \n",
      "...                                                 ...   \n",
      "4725         [(Reuters)The Australian Open's, Djokovic]   \n",
      "4726  [the European Tour, The Alfred Dunhill Champio...   \n",
      "4727  [International Olympic Committee, IOC, IOC, \"T...   \n",
      "4728  [Methane, Reuters, Nitrogen, NEO, Nitrogen Enr...   \n",
      "4729  [CNN, CNN)Tiger Woods, Golf Digest, Nike, NFL,...   \n",
      "\n",
      "                                         Processed_Text  \\\n",
      "0     [cnn, right, shortage, truck, drivers, us, wor...   \n",
      "2     [cnn, working, factory, warehouse, mean, task,...   \n",
      "3     [cnn, hong, kong, warehouse, swarm, autonomous...   \n",
      "4     [new, york, cnn, business, many, years, world,...   \n",
      "7     [european, union, formally, approved, tuesday,...   \n",
      "...                                                 ...   \n",
      "4725  [reuters, australian, open, vaccine, mandate, ...   \n",
      "4726  [cnn, four, golfers, scheduled, play, south, a...   \n",
      "4727  [cnn, international, olympic, committee, ioc, ...   \n",
      "4728  [norwegian, technology, company, found, way, s...   \n",
      "4729  [story, excerpted, november, 23, edition, cnn,...   \n",
      "\n",
      "                                         Dominant_Topic  Topic  \\\n",
      "0     said, people, one, says, photos, caption, cnn,...     35   \n",
      "2     said, people, one, says, photos, caption, cnn,...     35   \n",
      "3     said, people, one, says, photos, caption, cnn,...     35   \n",
      "4     said, people, one, says, photos, caption, cnn,...     80   \n",
      "7     said, cnn, people, government, peng, country, ...     80   \n",
      "...                                                 ...    ...   \n",
      "4725  team, game, first, said, one, world, players, ...     14   \n",
      "4726  team, game, first, said, one, world, players, ...      5   \n",
      "4727  said, cnn, people, government, peng, country, ...     42   \n",
      "4728  said, people, one, says, photos, caption, cnn,...     -1   \n",
      "4729  team, game, first, said, one, world, players, ...     46   \n",
      "\n",
      "                                            Topic_Words  \n",
      "0     robots, says, company, africa, is, to, of, and...  \n",
      "2     robots, says, company, africa, is, to, of, and...  \n",
      "3     robots, says, company, africa, is, to, of, and...  \n",
      "4     russia, russian, ukraine, company, operations,...  \n",
      "7     russia, russian, ukraine, company, operations,...  \n",
      "...                                                 ...  \n",
      "4725  australian, open, tennis, players, quarantine,...  \n",
      "4726  golf, masters, hole, pga, 2021, shot, his, rou...  \n",
      "4727  peng, chinese, ioc, shuai, wta, tennis, china,...  \n",
      "4728                                  No dominant topic  \n",
      "4729  woods, golf, tiger, his, sifford, he, pga, tou...  \n",
      "\n",
      "[4076 rows x 18 columns]\n"
     ]
    }
   ],
   "source": [
    "print(\"DataFrame with BERT detected topics:\") \n",
    "print(df)"
   ]
  },
  {
   "cell_type": "code",
   "execution_count": 34,
   "id": "8a5569f8",
   "metadata": {},
   "outputs": [
    {
     "data": {
      "text/plain": [
       "Index(['Unnamed: 0', 'author', 'date_published', 'part_of', 'article_section',\n",
       "       'url', 'headline', 'description', 'keywords', 'alternative_headline',\n",
       "       'text', 'People', 'Places', 'Companies', 'Processed_Text',\n",
       "       'Dominant_Topic', 'Topic', 'Topic_Words'],\n",
       "      dtype='object')"
      ]
     },
     "execution_count": 34,
     "metadata": {},
     "output_type": "execute_result"
    }
   ],
   "source": [
    "#get the df columns so you can generate the es mappings\n",
    "df.columns"
   ]
  },
  {
   "cell_type": "code",
   "execution_count": 79,
   "id": "37b9083c",
   "metadata": {},
   "outputs": [],
   "source": [
    "##Push the data to the es index\n",
    "from elasticsearch import Elasticsearch, helpers\n",
    "from elasticsearch.helpers import bulk"
   ]
  },
  {
   "cell_type": "code",
   "execution_count": 80,
   "id": "623a34a5",
   "metadata": {},
   "outputs": [],
   "source": [
    "#make a function to generate the es docs\n",
    "def generate_docs(df): \n",
    "    for index, row in df.iterrows():\n",
    "        yield { \"_index\": \"kcorn-test-index\",\n",
    "               \"_id\": index,\n",
    "               \"_source\": row.to_dict(),\n",
    "              }\n"
   ]
  },
  {
   "cell_type": "code",
   "execution_count": 81,
   "id": "5b93ed4f",
   "metadata": {},
   "outputs": [
    {
     "name": "stdout",
     "output_type": "stream",
     "text": [
      "Generated documents\n"
     ]
    }
   ],
   "source": [
    "# Generate documents\n",
    "docs = list(generate_docs(df)) \n",
    "print(\"Generated documents\") \n"
   ]
  },
  {
   "cell_type": "code",
   "execution_count": 69,
   "id": "e3b3ec04",
   "metadata": {},
   "outputs": [
    {
     "name": "stdout",
     "output_type": "stream",
     "text": [
      "DataFrame pushed to Elasticsearch index successfully!\n"
     ]
    }
   ],
   "source": [
    "# Connect to Elasticsearch \n",
    "try: \n",
    "    es = Elasticsearch('https://9d786a11020a493e94c2198ae5397ffb.us-central1.gcp.cloud.es.io:443', api_key=\"my_key\") \n",
    "    # Push DataFrame to Elasticsearch \n",
    "    bulk(es, generate_docs(df)) \n",
    "    print(\"DataFrame pushed to Elasticsearch index successfully!\") \n",
    "except ConnectionError as e: \n",
    "    print(f\"ConnectionError: {e}\")"
   ]
  }
 ],
 "metadata": {
  "kernelspec": {
   "display_name": "Python 3 (ipykernel)",
   "language": "python",
   "name": "python3"
  },
  "language_info": {
   "codemirror_mode": {
    "name": "ipython",
    "version": 3
   },
   "file_extension": ".py",
   "mimetype": "text/x-python",
   "name": "python",
   "nbconvert_exporter": "python",
   "pygments_lexer": "ipython3",
   "version": "3.9.13"
  }
 },
 "nbformat": 4,
 "nbformat_minor": 5
}
